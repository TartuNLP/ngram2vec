{
 "metadata": {
  "name": "",
  "signature": "sha256:38c27cae451cd4e2defd1820fb9c3e4b6e25a4ba3280027ebfba02ab92ae17af"
 },
 "nbformat": 3,
 "nbformat_minor": 0,
 "worksheets": [
  {
   "cells": [
    {
     "cell_type": "code",
     "collapsed": false,
     "input": [
      "import learn\n",
      "from importlib import reload\n",
      "learn = reload(learn)"
     ],
     "language": "python",
     "metadata": {},
     "outputs": [],
     "prompt_number": 21
    },
    {
     "cell_type": "code",
     "collapsed": false,
     "input": [
      "it = learn.CorpusNgramIterator(\"eu3.en\", 16, maxNgramLen=2)"
     ],
     "language": "python",
     "metadata": {},
     "outputs": [
      {
       "output_type": "stream",
       "stream": "stdout",
       "text": [
        "NGRAM 3145730 [2, 3] 1\n",
        "NGRAM 4194307 [3, 4] 1\n",
        "NGRAM 5242884 [4, 5] 1\n",
        "NGRAM 6291461 [5, 6] 1\n",
        "NGRAM 7340038 [6, 7] 1\n",
        "NGRAM 8388615 [7, 8] 1\n",
        "NGRAM 6291464 [8, 6] 1\n",
        "NGRAM 9437190 [6, 9] 1\n",
        "NGRAM 10485769 [9, 10] 1\n",
        "NGRAM 12582923 [11, 12] 1\n",
        "NGRAM 13631500 [12, 13] 1\n",
        "NGRAM 2097165 [13, 2] 1\n",
        "NGRAM 14680066 [2, 14] 1\n",
        "NGRAM 15728654 [14, 15] 1\n",
        "NGRAM 16777231 [15, 16] 1\n",
        "NGRAM 10485776 [16, 10] 1\n",
        "NGRAM 12582929 [17, 12] 1\n",
        "NGRAM 13631500 [12, 13] 2\n",
        "NGRAM 2097165 [13, 2] 2\n",
        "NGRAM 3145730 [2, 3] 2\n",
        "NGRAM 4194307 [3, 4] 2\n",
        "NGRAM 10485764 [4, 10] 1\n"
       ]
      }
     ],
     "prompt_number": 22
    },
    {
     "cell_type": "code",
     "collapsed": false,
     "input": [
      "it.numData"
     ],
     "language": "python",
     "metadata": {},
     "outputs": [
      {
       "metadata": {},
       "output_type": "pyout",
       "prompt_number": 23,
       "text": [
        "[[2, 3, 4, 5, 6, 7, 8, 6, 9, 10],\n",
        " [11, 12, 13, 2, 14, 15, 16, 10],\n",
        " [17, 12, 13, 2, 3, 4, 10]]"
       ]
      }
     ],
     "prompt_number": 23
    },
    {
     "cell_type": "code",
     "collapsed": false,
     "input": [
      "it.word2idx"
     ],
     "language": "python",
     "metadata": {},
     "outputs": [
      {
       "metadata": {},
       "output_type": "pyout",
       "prompt_number": 24,
       "text": [
        "{'asking': 4,\n",
        " 'and': 8,\n",
        " 'what': 13,\n",
        " 'that': 11,\n",
        " 'we': 2,\n",
        " 'respect': 7,\n",
        " 'your': 6,\n",
        " 'solidarity': 9,\n",
        " 'do': 16,\n",
        " '__UNK__': 1,\n",
        " 'this': 17,\n",
        " 'to': 15,\n",
        " 'are': 3,\n",
        " 'is': 12,\n",
        " '.': 10,\n",
        " 'have': 14,\n",
        " 'for': 5}"
       ]
      }
     ],
     "prompt_number": 24
    },
    {
     "cell_type": "code",
     "collapsed": false,
     "input": [
      "it.idxFreq[0]"
     ],
     "language": "python",
     "metadata": {},
     "outputs": [
      {
       "metadata": {},
       "output_type": "pyout",
       "prompt_number": 25,
       "text": [
        "defaultdict(<class 'int'>, {2: 3, 3: 2, 4: 2, 5: 1, 6: 2, 7: 1, 8: 1, 9: 1, 10: 3, 11: 1, 12: 2, 13: 2, 14: 1, 15: 1, 16: 1, 17: 1})"
       ]
      }
     ],
     "prompt_number": 25
    },
    {
     "cell_type": "code",
     "collapsed": false,
     "input": [
      "it.idxFreq[1]"
     ],
     "language": "python",
     "metadata": {},
     "outputs": [
      {
       "metadata": {},
       "output_type": "pyout",
       "prompt_number": 26,
       "text": [
        "defaultdict(<class 'int'>, {3145730: 2, 4194307: 2, 5242884: 1, 6291461: 1, 7340038: 1, 8388615: 1, 6291464: 1, 10485769: 1, 12582923: 1, 13631500: 2, 2097165: 2, 15728654: 1, 16777231: 1, 10485776: 1, 12582929: 1, 14680066: 1, 10485764: 1, 9437190: 1})"
       ]
      }
     ],
     "prompt_number": 26
    },
    {
     "cell_type": "code",
     "collapsed": false,
     "input": [],
     "language": "python",
     "metadata": {},
     "outputs": []
    }
   ],
   "metadata": {}
  }
 ]
}