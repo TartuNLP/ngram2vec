{
 "metadata": {
  "name": "",
  "signature": "sha256:dbd961352853d063d33a8667458d80e6f4693a937fc05e63c34fd617c02def76"
 },
 "nbformat": 3,
 "nbformat_minor": 0,
 "worksheets": [
  {
   "cells": [
    {
     "cell_type": "code",
     "collapsed": false,
     "input": [
      "import spacy\n",
      "\n",
      "nlp = spacy.load('en')"
     ],
     "language": "python",
     "metadata": {},
     "outputs": [],
     "prompt_number": 9
    },
    {
     "cell_type": "code",
     "collapsed": false,
     "input": [
      "with open('raweu.en', 'r') as fh:\n",
      "    doc = nlp(fh.read())\n",
      "    print(doc[0])"
     ],
     "language": "python",
     "metadata": {},
     "outputs": []
    },
    {
     "cell_type": "code",
     "collapsed": false,
     "input": [
      "for w in doc:\n",
      "    print((\"CONTENT\" if w.pos_ in [\"NOUN\", \"VERB\", \"ADJ\", \"ADV\", \"PROPN\"] else \"_\") + \"\\t\" + w.text + \"\\t\" + w.pos_)"
     ],
     "language": "python",
     "metadata": {},
     "outputs": [
      {
       "output_type": "stream",
       "stream": "stdout",
       "text": [
        "CONTENT\tOnly\tADV\n",
        "_\ta\tDET\n",
        "CONTENT\tEurope\tPROPN\n",
        "_\tof\tADP\n",
        "CONTENT\tequal\tADJ\n",
        "CONTENT\topportunities\tNOUN\n",
        "CONTENT\twill\tVERB\n",
        "CONTENT\tbe\tVERB\n",
        "CONTENT\trespected\tVERB\n",
        "_\tin\tADP\n",
        "_\tthe\tDET\n",
        "CONTENT\tinternational\tADJ\n",
        "CONTENT\tarena\tNOUN\n",
        "_\tand\tCCONJ\n",
        "CONTENT\tbecome\tVERB\n",
        "_\ta\tDET\n",
        "CONTENT\tsignificant\tADJ\n",
        "CONTENT\tpartner\tNOUN\n",
        "_\tfor\tADP\n",
        "_\tthe\tDET\n",
        "CONTENT\tmost\tADV\n",
        "CONTENT\timportant\tADJ\n",
        "CONTENT\tpolitical\tADJ\n",
        "_\tand\tCCONJ\n",
        "CONTENT\teconomic\tADJ\n",
        "CONTENT\tpowers\tNOUN\n",
        "_\tof\tADP\n",
        "CONTENT\ttoday\tNOUN\n",
        "_\t's\tPART\n",
        "CONTENT\tworld\tNOUN\n",
        "_\t.\tPUNCT\n"
       ]
      }
     ],
     "prompt_number": 11
    },
    {
     "cell_type": "code",
     "collapsed": false,
     "input": [
      "import learn\n",
      "from collections import Counter, defaultdict"
     ],
     "language": "python",
     "metadata": {},
     "outputs": [],
     "prompt_number": 23
    },
    {
     "cell_type": "code",
     "collapsed": false,
     "input": [
      "data = learn.read_data('europarl.en')\n",
      "lex = defaultdict(lambda: defaultdict(int))\n",
      "for ngram, _, _ in learn.iterNgrams(data, maxSize=3):\n",
      "    lex[len(ngram)][\"_\".join(ngram)] += 1"
     ],
     "language": "python",
     "metadata": {},
     "outputs": [],
     "prompt_number": 25
    },
    {
     "cell_type": "code",
     "collapsed": false,
     "input": [
      "print(len(lex[1]))\n",
      "print(len(lex[2]))\n",
      "print(len(lex[3]))"
     ],
     "language": "python",
     "metadata": {},
     "outputs": [
      {
       "output_type": "stream",
       "stream": "stdout",
       "text": [
        "67965\n",
        "1431333\n",
        "5424113\n"
       ]
      }
     ],
     "prompt_number": 28
    },
    {
     "cell_type": "code",
     "collapsed": false,
     "input": [
      "len([(w, f) for w, f in lex[1].items() if f > 2])"
     ],
     "language": "python",
     "metadata": {},
     "outputs": [
      {
       "metadata": {},
       "output_type": "pyout",
       "prompt_number": 48,
       "text": [
        "34811"
       ]
      }
     ],
     "prompt_number": 48
    },
    {
     "cell_type": "code",
     "collapsed": false,
     "input": [
      "len([(w, f) for w, f in lex[2].items() if f > 50])"
     ],
     "language": "python",
     "metadata": {},
     "outputs": [
      {
       "metadata": {},
       "output_type": "pyout",
       "prompt_number": 46,
       "text": [
        "36218"
       ]
      }
     ],
     "prompt_number": 46
    },
    {
     "cell_type": "code",
     "collapsed": false,
     "input": [
      "len([(w, f) for w, f in lex[3].items() if f > 50])"
     ],
     "language": "python",
     "metadata": {},
     "outputs": [
      {
       "metadata": {},
       "output_type": "pyout",
       "prompt_number": 47,
       "text": [
        "27050"
       ]
      }
     ],
     "prompt_number": 47
    },
    {
     "cell_type": "code",
     "collapsed": false,
     "input": [],
     "language": "python",
     "metadata": {},
     "outputs": []
    }
   ],
   "metadata": {}
  }
 ]
}